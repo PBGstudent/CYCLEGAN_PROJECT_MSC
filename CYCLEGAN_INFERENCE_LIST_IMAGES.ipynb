{
  "nbformat": 4,
  "nbformat_minor": 0,
  "metadata": {
    "colab": {
      "provenance": [],
      "gpuType": "T4"
    },
    "kernelspec": {
      "name": "python3",
      "display_name": "Python 3"
    },
    "language_info": {
      "name": "python"
    },
    "accelerator": "GPU"
  },
  "cells": [
    {
      "cell_type": "markdown",
      "source": [
        "# save generated images to drive"
      ],
      "metadata": {
        "id": "jun4BN395EXn"
      }
    },
    {
      "cell_type": "code",
      "source": [
        "import shutil\n",
        "import glob\n",
        "\n",
        "all_generated_images = glob.glob(\"/content/*.png\")\n",
        "\n",
        "for agi in all_generated_images:\n",
        "    shutil.copy(agi, \"/content/drive/MyDrive\")"
      ],
      "metadata": {
        "id": "rC3C_qheSYQ4"
      },
      "execution_count": null,
      "outputs": []
    },
    {
      "cell_type": "markdown",
      "source": [
        "# checking generated images in google drive"
      ],
      "metadata": {
        "id": "e5XlTXfvWXdq"
      }
    },
    {
      "cell_type": "code",
      "source": [
        "# mount your google drive before you start\n",
        "from google.colab import drive\n",
        "drive.mount('/content/drive')"
      ],
      "metadata": {
        "colab": {
          "base_uri": "https://localhost:8080/"
        },
        "id": "f8iShSJ0WTT6",
        "outputId": "a228bc1e-5a85-43f9-c8e7-8d8b149d495f"
      },
      "execution_count": null,
      "outputs": [
        {
          "output_type": "stream",
          "name": "stdout",
          "text": [
            "Drive already mounted at /content/drive; to attempt to forcibly remount, call drive.mount(\"/content/drive\", force_remount=True).\n"
          ]
        }
      ]
    },
    {
      "cell_type": "code",
      "source": [
        "from IPython.display import Image"
      ],
      "metadata": {
        "id": "EaFt8SHXWTXL"
      },
      "execution_count": null,
      "outputs": []
    },
    {
      "cell_type": "code",
      "source": [
        "main_dir = \"/content/drive/MyDrive\"\n",
        "glob.glob(main_dir + \"/*.png\")"
      ],
      "metadata": {
        "colab": {
          "base_uri": "https://localhost:8080/"
        },
        "id": "0pB8VTiaWeC7",
        "outputId": "cd665c18-593e-446c-c916-055c6bc6950b"
      },
      "execution_count": null,
      "outputs": [
        {
          "output_type": "execute_result",
          "data": {
            "text/plain": [
              "['/content/drive/MyDrive/AtoB_generated_real_plot_000240.png',\n",
              " '/content/drive/MyDrive/AtoB_generated_plot_000180.png',\n",
              " '/content/drive/MyDrive/BtoA_generated_plot_000180.png',\n",
              " '/content/drive/MyDrive/BtoA_generated_real_plot_000240.png',\n",
              " '/content/drive/MyDrive/AtoB_generated_plot_000240.png',\n",
              " '/content/drive/MyDrive/BtoA_generated_plot_000240.png',\n",
              " '/content/drive/MyDrive/AtoB_generated_real_plot_000180.png',\n",
              " '/content/drive/MyDrive/BtoA_generated_real_plot_000180.png',\n",
              " '/content/drive/MyDrive/BtoA_generated_real_plot_000120.png',\n",
              " '/content/drive/MyDrive/BtoA_generated_plot_000060.png',\n",
              " '/content/drive/MyDrive/AtoB_generated_plot_000120.png',\n",
              " '/content/drive/MyDrive/AtoB_generated_plot_000060.png',\n",
              " '/content/drive/MyDrive/BtoA_generated_plot_000120.png',\n",
              " '/content/drive/MyDrive/AtoB_generated_real_plot_000120.png',\n",
              " '/content/drive/MyDrive/BtoA_generated_real_plot_000060.png',\n",
              " '/content/drive/MyDrive/AtoB_generated_real_plot_000060.png']"
            ]
          },
          "metadata": {},
          "execution_count": 4
        }
      ]
    },
    {
      "cell_type": "code",
      "source": [
        "!ls/content/drive/MyDrive/"
      ],
      "metadata": {
        "colab": {
          "base_uri": "https://localhost:8080/"
        },
        "id": "iPVOTDGOWeFs",
        "outputId": "6d45ae80-0566-42f3-9864-ff69d576bc47"
      },
      "execution_count": null,
      "outputs": [
        {
          "output_type": "stream",
          "name": "stdout",
          "text": [
            "/bin/bash: line 1: ls/content/drive/MyDrive/: No such file or directory\n"
          ]
        }
      ]
    }
  ]
}